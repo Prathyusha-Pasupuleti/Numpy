{
  "nbformat": 4,
  "nbformat_minor": 0,
  "metadata": {
    "colab": {
      "provenance": [],
      "authorship_tag": "ABX9TyNEBk5LNMs/rHPlKpCh8qpJ",
      "include_colab_link": true
    },
    "kernelspec": {
      "name": "python3",
      "display_name": "Python 3"
    },
    "language_info": {
      "name": "python"
    }
  },
  "cells": [
    {
      "cell_type": "markdown",
      "metadata": {
        "id": "view-in-github",
        "colab_type": "text"
      },
      "source": [
        "<a href=\"https://colab.research.google.com/github/Prathyusha-Pasupuleti/Numpy/blob/main/Introduction_to_Numpy_2.ipynb\" target=\"_parent\"><img src=\"https://colab.research.google.com/assets/colab-badge.svg\" alt=\"Open In Colab\"/></a>"
      ]
    },
    {
      "cell_type": "code",
      "execution_count": 3,
      "metadata": {
        "id": "CFzMIGDUz1eo"
      },
      "outputs": [],
      "source": [
        "import numpy as np"
      ]
    },
    {
      "cell_type": "code",
      "source": [
        "# Recap\n",
        "arr = np.array([[1,2,3],[4,5,6]])"
      ],
      "metadata": {
        "id": "B9ccKKSm3ONh"
      },
      "execution_count": 2,
      "outputs": []
    },
    {
      "cell_type": "code",
      "source": [
        "type(arr)"
      ],
      "metadata": {
        "colab": {
          "base_uri": "https://localhost:8080/"
        },
        "id": "RRrcn1cS3OYP",
        "outputId": "20d0d206-60c0-46ff-cfe1-a6098df99992"
      },
      "execution_count": 4,
      "outputs": [
        {
          "output_type": "execute_result",
          "data": {
            "text/plain": [
              "numpy.ndarray"
            ]
          },
          "metadata": {},
          "execution_count": 4
        }
      ]
    },
    {
      "cell_type": "code",
      "source": [
        "\n",
        "# Dot product - m x n || n x p\n",
        "arr1 = np.random.randint(1,2,(1,2))"
      ],
      "metadata": {
        "id": "r2rTSkYW3Oc7"
      },
      "execution_count": 20,
      "outputs": []
    },
    {
      "cell_type": "code",
      "source": [
        "arr.shape\n",
        "arr1.shape"
      ],
      "metadata": {
        "colab": {
          "base_uri": "https://localhost:8080/"
        },
        "id": "8POauulp3Ogf",
        "outputId": "01c3aa77-f901-4ea4-a43c-acc30513962d"
      },
      "execution_count": 21,
      "outputs": [
        {
          "output_type": "execute_result",
          "data": {
            "text/plain": [
              "(1, 2)"
            ]
          },
          "metadata": {},
          "execution_count": 21
        }
      ]
    },
    {
      "cell_type": "code",
      "source": [
        "result = np.dot(arr,arr1)"
      ],
      "metadata": {
        "id": "X8awVNn33Oj_"
      },
      "execution_count": 9,
      "outputs": []
    },
    {
      "cell_type": "code",
      "source": [
        "print(result)"
      ],
      "metadata": {
        "colab": {
          "base_uri": "https://localhost:8080/"
        },
        "id": "YXPwtw1a3Omw",
        "outputId": "45484154-40b5-4862-f95c-f1eb3dfc6ac9"
      },
      "execution_count": 10,
      "outputs": [
        {
          "output_type": "stream",
          "name": "stdout",
          "text": [
            "[[ 6]\n",
            " [15]]\n"
          ]
        }
      ]
    },
    {
      "cell_type": "code",
      "source": [
        "r1 = np.random.randint(10,20,(3,3))\n",
        "print(r1)"
      ],
      "metadata": {
        "colab": {
          "base_uri": "https://localhost:8080/"
        },
        "id": "SShDpIw-41qd",
        "outputId": "f94b311d-8c8f-456d-9fd3-b858ec24c658"
      },
      "execution_count": 12,
      "outputs": [
        {
          "output_type": "stream",
          "name": "stdout",
          "text": [
            "[[15 16 14]\n",
            " [15 14 13]\n",
            " [11 15 11]]\n"
          ]
        }
      ]
    },
    {
      "cell_type": "code",
      "source": [
        "r2 = np.eye(3)\n",
        "print(r2)"
      ],
      "metadata": {
        "colab": {
          "base_uri": "https://localhost:8080/"
        },
        "id": "12OtYPOI43Pa",
        "outputId": "265f1d26-eeb4-484d-c6c2-e48cb115a222"
      },
      "execution_count": 13,
      "outputs": [
        {
          "output_type": "stream",
          "name": "stdout",
          "text": [
            "[[1. 0. 0.]\n",
            " [0. 1. 0.]\n",
            " [0. 0. 1.]]\n"
          ]
        }
      ]
    },
    {
      "cell_type": "code",
      "source": [
        "# r1 . I\n",
        "result2 = np.dot(r2,r1)"
      ],
      "metadata": {
        "id": "2l65UmqX44Qz"
      },
      "execution_count": 16,
      "outputs": []
    },
    {
      "cell_type": "code",
      "source": [
        "print(result2)"
      ],
      "metadata": {
        "colab": {
          "base_uri": "https://localhost:8080/"
        },
        "id": "ud3mZiyc45Or",
        "outputId": "5923cb2c-0ccd-40cc-db62-b7268e369b4a"
      },
      "execution_count": 17,
      "outputs": [
        {
          "output_type": "stream",
          "name": "stdout",
          "text": [
            "[[15. 16. 14.]\n",
            " [15. 14. 13.]\n",
            " [11. 15. 11.]]\n"
          ]
        }
      ]
    },
    {
      "cell_type": "code",
      "source": [
        "# M . I = I . M = M\n",
        "\n",
        "# A . B != B . A"
      ],
      "metadata": {
        "id": "lCBTsyRa4519"
      },
      "execution_count": null,
      "outputs": []
    },
    {
      "cell_type": "code",
      "source": [
        "# MATHEMATICAL OPERATIONS\n",
        "# + - * /\n",
        "t1 = np.random.randint(3,6,(3,3))\n",
        "t2 = np.random.randint(3,6,(3,3))"
      ],
      "metadata": {
        "id": "j73-_-Nw58iX"
      },
      "execution_count": 23,
      "outputs": []
    },
    {
      "cell_type": "code",
      "source": [
        "print(t1)\n",
        "print(t2)"
      ],
      "metadata": {
        "colab": {
          "base_uri": "https://localhost:8080/"
        },
        "id": "YZ_Q7NhM5826",
        "outputId": "35d48d5e-0540-4a13-9598-d30d42079af4"
      },
      "execution_count": 24,
      "outputs": [
        {
          "output_type": "stream",
          "name": "stdout",
          "text": [
            "[[4 4 3]\n",
            " [4 3 4]\n",
            " [3 4 5]]\n",
            "[[5 4 5]\n",
            " [3 4 3]\n",
            " [5 4 3]]\n"
          ]
        }
      ]
    },
    {
      "cell_type": "code",
      "source": [
        "t3 = t1 +t2\n",
        "print(t3)"
      ],
      "metadata": {
        "colab": {
          "base_uri": "https://localhost:8080/"
        },
        "id": "xGSg8IbD59F5",
        "outputId": "5dc0e625-6823-43d0-e5f4-fdbc1a82505c"
      },
      "execution_count": 26,
      "outputs": [
        {
          "output_type": "stream",
          "name": "stdout",
          "text": [
            "[[9 8 8]\n",
            " [7 7 7]\n",
            " [8 8 8]]\n"
          ]
        }
      ]
    },
    {
      "cell_type": "code",
      "source": [
        "# Matrix multiplication\n",
        "result = np.dot(arr1,arr)"
      ],
      "metadata": {
        "id": "FzEdM8bC59R9"
      },
      "execution_count": 27,
      "outputs": []
    },
    {
      "cell_type": "code",
      "source": [
        "# Statistical multiplication\n",
        "mean = t3.mean()\n",
        "max = t3.max()\n",
        "median = np.median(t3)\n",
        "std = np.std(t3)\n",
        "var = np.var(t3)"
      ],
      "metadata": {
        "id": "_RyOy8jX46in"
      },
      "execution_count": 37,
      "outputs": []
    },
    {
      "cell_type": "code",
      "source": [
        "print(mean)\n",
        "print(max)\n",
        "print(median)\n",
        "print(std)\n",
        "print(var)"
      ],
      "metadata": {
        "colab": {
          "base_uri": "https://localhost:8080/"
        },
        "id": "E8bRvorN47mC",
        "outputId": "41d39652-b878-4332-a687-d24d07f2f38a"
      },
      "execution_count": 38,
      "outputs": [
        {
          "output_type": "stream",
          "name": "stdout",
          "text": [
            "7.777777777777778\n",
            "9\n",
            "8.0\n",
            "0.6285393610547089\n",
            "0.3950617283950617\n"
          ]
        }
      ]
    },
    {
      "cell_type": "code",
      "source": [
        "std * std"
      ],
      "metadata": {
        "colab": {
          "base_uri": "https://localhost:8080/"
        },
        "id": "NpX5x-8n-bc2",
        "outputId": "179a129a-3dc0-4df3-a4e8-fd408c69ccab"
      },
      "execution_count": 39,
      "outputs": [
        {
          "output_type": "execute_result",
          "data": {
            "text/plain": [
              "0.39506172839506165"
            ]
          },
          "metadata": {},
          "execution_count": 39
        }
      ]
    },
    {
      "cell_type": "code",
      "source": [
        "# Trigonometric functions\n",
        "# Sin - (x)\n",
        "# Cos - (x)\n",
        "# Tan - sin(x)/cos(x)\n",
        "# Cosec - 1/ sin(x)\n",
        "# Sec - 1 / cos(x)\n",
        "# Cot - 1 / tan(x)\n",
        "#\n",
        "angles = np.array([0,15,30,45,60,75,90])\n",
        "\n",
        "# Sin (array)\n",
        "\n",
        "result = np.sin(np.radians(angles))\n",
        "result1 = np.cos(np.radians(angles))\n",
        "result2 = np.tan(np.radians(angles))"
      ],
      "metadata": {
        "id": "3fpi5ZtA-exr"
      },
      "execution_count": 49,
      "outputs": []
    },
    {
      "cell_type": "code",
      "source": [
        "print(result)\n",
        "print(result1)\n",
        "print(result2)"
      ],
      "metadata": {
        "colab": {
          "base_uri": "https://localhost:8080/"
        },
        "id": "7Sr1o6qB-fYX",
        "outputId": "83676e8a-30b5-4d48-b516-0a6cc34c57c2"
      },
      "execution_count": 47,
      "outputs": [
        {
          "output_type": "stream",
          "name": "stdout",
          "text": [
            "[0.17364818 0.25881905 0.5        0.70710678 0.8660254  0.96592583\n",
            " 1.        ]\n",
            "[9.84807753e-01 9.65925826e-01 8.66025404e-01 7.07106781e-01\n",
            " 5.00000000e-01 2.58819045e-01 6.12323400e-17]\n",
            "[1.76326981e-01 2.67949192e-01 5.77350269e-01 1.00000000e+00\n",
            " 1.73205081e+00 3.73205081e+00 1.63312394e+16]\n"
          ]
        }
      ]
    },
    {
      "cell_type": "code",
      "source": [
        "arr = np.array([1,2,3,4,5,6])\n",
        "\n",
        "# Reshape the array\n",
        "reshapedarr = arr.reshape(3,2)\n",
        "\n",
        "print(reshapedarr)\n",
        "\n",
        "# Convert / Flatten any n dim array\n",
        "flattenedarr = arr.flatten()\n",
        "\n",
        "print(flattenedarr)"
      ],
      "metadata": {
        "colab": {
          "base_uri": "https://localhost:8080/"
        },
        "id": "Ft1bJBWR-cHr",
        "outputId": "4e01fec1-7dac-4457-d98d-fdf8585387c5"
      },
      "execution_count": 48,
      "outputs": [
        {
          "output_type": "stream",
          "name": "stdout",
          "text": [
            "[[1 2]\n",
            " [3 4]\n",
            " [5 6]]\n",
            "[1 2 3 4 5 6]\n"
          ]
        }
      ]
    },
    {
      "cell_type": "code",
      "source": [
        "# Stacking the data\n",
        "\n",
        "arr1 = np.array([[1,2,3,4],[2,3,4,5]])\n",
        "arr2 = np.array([10,20,30,40])\n",
        "\n",
        "# Vertical Stacking\n",
        "arr3 = np.vstack((arr1,arr2))\n",
        "print(f\"The shape of arr3 is {arr3.shape}\")"
      ],
      "metadata": {
        "colab": {
          "base_uri": "https://localhost:8080/"
        },
        "id": "2DNgP6Fg-co6",
        "outputId": "802160a1-7eff-4fce-be5c-9beac3ebe9b9"
      },
      "execution_count": 52,
      "outputs": [
        {
          "output_type": "stream",
          "name": "stdout",
          "text": [
            "The shape of arr3 is (3, 4)\n"
          ]
        }
      ]
    },
    {
      "cell_type": "code",
      "source": [
        "# Stacking the data\n",
        "\n",
        "arr1 = np.array([1,2,3,4])\n",
        "arr2 = np.array([10,20,30,40])\n",
        "\n",
        "# Vertical Stacking\n",
        "arr3 = np.vstack((arr1,arr2))\n",
        "print(f\"The shape of arr3 is {arr3.shape}\")\n",
        "\n",
        "# Horizontal Stacking\n",
        "arr4 = np.hstack((arr1,arr2))\n",
        "print(f\"The shape of arr4 is {arr4.shape}\")\n",
        "print(arr4)"
      ],
      "metadata": {
        "colab": {
          "base_uri": "https://localhost:8080/"
        },
        "id": "kGqZ_v8NCXBI",
        "outputId": "d20b83ae-d29c-474d-bd85-23c2f2544cbb"
      },
      "execution_count": 53,
      "outputs": [
        {
          "output_type": "stream",
          "name": "stdout",
          "text": [
            "The shape of arr3 is (2, 4)\n",
            "The shape of arr4 is (8,)\n",
            "[ 1  2  3  4 10 20 30 40]\n"
          ]
        }
      ]
    },
    {
      "cell_type": "code",
      "source": [
        "# Filtering\n",
        "arr = np.array([10,20,30,40,50,60,70,80])\n",
        "\n",
        "farr = arr[arr > 40]\n",
        "\n",
        "print(farr)"
      ],
      "metadata": {
        "colab": {
          "base_uri": "https://localhost:8080/"
        },
        "id": "Tia51ICkCXez",
        "outputId": "4d5dc71b-d8c8-4393-9b72-9c27f7989252"
      },
      "execution_count": 54,
      "outputs": [
        {
          "output_type": "stream",
          "name": "stdout",
          "text": [
            "[50 60 70 80]\n"
          ]
        }
      ]
    },
    {
      "cell_type": "code",
      "source": [],
      "metadata": {
        "id": "_rtcWHsrCWSc"
      },
      "execution_count": null,
      "outputs": []
    },
    {
      "cell_type": "code",
      "source": [],
      "metadata": {
        "id": "M1cOp7swCWo1"
      },
      "execution_count": null,
      "outputs": []
    },
    {
      "cell_type": "code",
      "source": [],
      "metadata": {
        "id": "Bk5wGeaJ-dSE"
      },
      "execution_count": null,
      "outputs": []
    },
    {
      "cell_type": "code",
      "source": [],
      "metadata": {
        "id": "7lDxyR1r-d2L"
      },
      "execution_count": null,
      "outputs": []
    }
  ]
}